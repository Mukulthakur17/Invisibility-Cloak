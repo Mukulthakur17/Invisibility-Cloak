{
 "cells": [
  {
   "cell_type": "code",
   "execution_count": 1,
   "metadata": {},
   "outputs": [],
   "source": [
    "import cv2\n",
    "import numpy as np"
   ]
  },
  {
   "cell_type": "code",
   "execution_count": 2,
   "metadata": {},
   "outputs": [],
   "source": [
    "cv2.namedWindow(\"Tracking\")\n",
    "cap = cv2.VideoCapture(0)\n",
    "def nothing(x):\n",
    "    pass"
   ]
  },
  {
   "cell_type": "code",
   "execution_count": 3,
   "metadata": {},
   "outputs": [],
   "source": [
    "cv2.createTrackbar(\"LH\", \"Tracking\", 0, 255, nothing)\n",
    "cv2.createTrackbar(\"LS\", \"Tracking\", 0, 255, nothing)\n",
    "cv2.createTrackbar(\"LV\", \"Tracking\", 255, 255, nothing)\n",
    "cv2.createTrackbar(\"UH\", \"Tracking\", 255, 255, nothing)\n",
    "cv2.createTrackbar(\"US\", \"Tracking\", 255, 255, nothing)\n",
    "cv2.createTrackbar(\"UV\", \"Tracking\", 255, 255, nothing)"
   ]
  },
  {
   "cell_type": "code",
   "execution_count": 4,
   "metadata": {},
   "outputs": [],
   "source": [
    "while True:\n",
    "    ret, frames = cap.read()\n",
    "    hsv = cv2.cvtColor(frames, cv2.COLOR_BGR2HSV)\n",
    "    \n",
    "    lh = cv2.getTrackbarPos(\"LH\", \"Tracking\")\n",
    "    ls = cv2.getTrackbarPos(\"LS\", \"Tracking\")\n",
    "    lv = cv2.getTrackbarPos(\"LV\", \"Tracking\")\n",
    "    uh = cv2.getTrackbarPos(\"UH\", \"Tracking\")\n",
    "    us = cv2.getTrackbarPos(\"US\", \"Tracking\")\n",
    "    uv = cv2.getTrackbarPos(\"UV\", \"Tracking\")\n",
    "    \n",
    "    Lb = np.array([lh, ls, lv])\n",
    "    Ub = np.array([uh, us, uv])\n",
    "\n",
    "    mask_C = cv2.inRange(hsv, Lb, Ub)\n",
    "    \n",
    "    Result = cv2.bitwise_and(frames, frames, mask = mask_C)\n",
    "    \n",
    "    cv2.imshow(\"Recording\", frames)\n",
    "    cv2.imshow(\"Mask\", mask_C)\n",
    "    cv2.imshow(\"Result\", Result)\n",
    "    \n",
    "    key = cv2.waitKey(1)\n",
    "    if key == 27:\n",
    "        break\n",
    "    "
   ]
  },
  {
   "cell_type": "code",
   "execution_count": 5,
   "metadata": {},
   "outputs": [],
   "source": [
    "cap.release()\n",
    "cv2.destroyAllWindows()"
   ]
  }
 ],
 "metadata": {
  "kernelspec": {
   "display_name": "Python 3",
   "language": "python",
   "name": "python3"
  },
  "language_info": {
   "codemirror_mode": {
    "name": "ipython",
    "version": 3
   },
   "file_extension": ".py",
   "mimetype": "text/x-python",
   "name": "python",
   "nbconvert_exporter": "python",
   "pygments_lexer": "ipython3",
   "version": "3.7.4"
  }
 },
 "nbformat": 4,
 "nbformat_minor": 2
}